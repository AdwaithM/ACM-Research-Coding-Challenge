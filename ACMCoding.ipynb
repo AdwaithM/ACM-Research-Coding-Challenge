{
 "cells": [
  {
   "cell_type": "code",
   "execution_count": 100,
   "metadata": {},
   "outputs": [],
   "source": [
    "#Importing libraries \n",
    "import pandas as pd\n",
    "import matplotlib.pyplot as plt # for plotting graphs\n",
    "from sklearn.preprocessing import MinMaxScaler #for scaling data\n",
    "from sklearn.cluster import KMeans # for clustering by using KMeans algoritm "
   ]
  },
  {
   "cell_type": "code",
   "execution_count": 101,
   "metadata": {},
   "outputs": [
    {
     "data": {
      "text/html": [
       "<div>\n",
       "<style scoped>\n",
       "    .dataframe tbody tr th:only-of-type {\n",
       "        vertical-align: middle;\n",
       "    }\n",
       "\n",
       "    .dataframe tbody tr th {\n",
       "        vertical-align: top;\n",
       "    }\n",
       "\n",
       "    .dataframe thead th {\n",
       "        text-align: right;\n",
       "    }\n",
       "</style>\n",
       "<table border=\"1\" class=\"dataframe\">\n",
       "  <thead>\n",
       "    <tr style=\"text-align: right;\">\n",
       "      <th></th>\n",
       "      <th>Unnamed: 0</th>\n",
       "      <th>V1</th>\n",
       "      <th>V2</th>\n",
       "    </tr>\n",
       "  </thead>\n",
       "  <tbody>\n",
       "    <tr>\n",
       "      <th>0</th>\n",
       "      <td>0</td>\n",
       "      <td>4.30</td>\n",
       "      <td>0.80</td>\n",
       "    </tr>\n",
       "    <tr>\n",
       "      <th>1</th>\n",
       "      <td>1</td>\n",
       "      <td>3.95</td>\n",
       "      <td>0.80</td>\n",
       "    </tr>\n",
       "    <tr>\n",
       "      <th>2</th>\n",
       "      <td>2</td>\n",
       "      <td>3.95</td>\n",
       "      <td>0.75</td>\n",
       "    </tr>\n",
       "    <tr>\n",
       "      <th>3</th>\n",
       "      <td>3</td>\n",
       "      <td>3.85</td>\n",
       "      <td>0.85</td>\n",
       "    </tr>\n",
       "    <tr>\n",
       "      <th>4</th>\n",
       "      <td>4</td>\n",
       "      <td>4.30</td>\n",
       "      <td>0.80</td>\n",
       "    </tr>\n",
       "    <tr>\n",
       "      <th>...</th>\n",
       "      <td>...</td>\n",
       "      <td>...</td>\n",
       "      <td>...</td>\n",
       "    </tr>\n",
       "    <tr>\n",
       "      <th>145</th>\n",
       "      <td>145</td>\n",
       "      <td>4.85</td>\n",
       "      <td>3.75</td>\n",
       "    </tr>\n",
       "    <tr>\n",
       "      <th>146</th>\n",
       "      <td>146</td>\n",
       "      <td>4.40</td>\n",
       "      <td>3.45</td>\n",
       "    </tr>\n",
       "    <tr>\n",
       "      <th>147</th>\n",
       "      <td>147</td>\n",
       "      <td>4.75</td>\n",
       "      <td>3.60</td>\n",
       "    </tr>\n",
       "    <tr>\n",
       "      <th>148</th>\n",
       "      <td>148</td>\n",
       "      <td>4.80</td>\n",
       "      <td>3.85</td>\n",
       "    </tr>\n",
       "    <tr>\n",
       "      <th>149</th>\n",
       "      <td>149</td>\n",
       "      <td>4.45</td>\n",
       "      <td>3.45</td>\n",
       "    </tr>\n",
       "  </tbody>\n",
       "</table>\n",
       "<p>150 rows × 3 columns</p>\n",
       "</div>"
      ],
      "text/plain": [
       "     Unnamed: 0    V1    V2\n",
       "0             0  4.30  0.80\n",
       "1             1  3.95  0.80\n",
       "2             2  3.95  0.75\n",
       "3             3  3.85  0.85\n",
       "4             4  4.30  0.80\n",
       "..          ...   ...   ...\n",
       "145         145  4.85  3.75\n",
       "146         146  4.40  3.45\n",
       "147         147  4.75  3.60\n",
       "148         148  4.80  3.85\n",
       "149         149  4.45  3.45\n",
       "\n",
       "[150 rows x 3 columns]"
      ]
     },
     "execution_count": 101,
     "metadata": {},
     "output_type": "execute_result"
    }
   ],
   "source": [
    "#loading dataset\n",
    "import pandas as pd\n",
    "data = pd.read_csv(\"https://raw.githubusercontent.com/ACM-Research/Coding-Challenge/master/ClusterPlot.csv\")\n",
    "data"
   ]
  },
  {
   "cell_type": "code",
   "execution_count": 102,
   "metadata": {},
   "outputs": [
    {
     "data": {
      "text/html": [
       "<div>\n",
       "<style scoped>\n",
       "    .dataframe tbody tr th:only-of-type {\n",
       "        vertical-align: middle;\n",
       "    }\n",
       "\n",
       "    .dataframe tbody tr th {\n",
       "        vertical-align: top;\n",
       "    }\n",
       "\n",
       "    .dataframe thead th {\n",
       "        text-align: right;\n",
       "    }\n",
       "</style>\n",
       "<table border=\"1\" class=\"dataframe\">\n",
       "  <thead>\n",
       "    <tr style=\"text-align: right;\">\n",
       "      <th></th>\n",
       "      <th>Unnamed: 0</th>\n",
       "      <th>V1</th>\n",
       "      <th>V2</th>\n",
       "    </tr>\n",
       "  </thead>\n",
       "  <tbody>\n",
       "    <tr>\n",
       "      <th>count</th>\n",
       "      <td>150.000000</td>\n",
       "      <td>150.000000</td>\n",
       "      <td>150.000000</td>\n",
       "    </tr>\n",
       "    <tr>\n",
       "      <th>mean</th>\n",
       "      <td>74.500000</td>\n",
       "      <td>4.448667</td>\n",
       "      <td>2.478667</td>\n",
       "    </tr>\n",
       "    <tr>\n",
       "      <th>std</th>\n",
       "      <td>43.445368</td>\n",
       "      <td>0.445859</td>\n",
       "      <td>1.253831</td>\n",
       "    </tr>\n",
       "    <tr>\n",
       "      <th>min</th>\n",
       "      <td>0.000000</td>\n",
       "      <td>3.400000</td>\n",
       "      <td>0.600000</td>\n",
       "    </tr>\n",
       "    <tr>\n",
       "      <th>25%</th>\n",
       "      <td>37.250000</td>\n",
       "      <td>4.150000</td>\n",
       "      <td>0.900000</td>\n",
       "    </tr>\n",
       "    <tr>\n",
       "      <th>50%</th>\n",
       "      <td>74.500000</td>\n",
       "      <td>4.425000</td>\n",
       "      <td>2.825000</td>\n",
       "    </tr>\n",
       "    <tr>\n",
       "      <th>75%</th>\n",
       "      <td>111.750000</td>\n",
       "      <td>4.787500</td>\n",
       "      <td>3.500000</td>\n",
       "    </tr>\n",
       "    <tr>\n",
       "      <th>max</th>\n",
       "      <td>149.000000</td>\n",
       "      <td>5.850000</td>\n",
       "      <td>4.600000</td>\n",
       "    </tr>\n",
       "  </tbody>\n",
       "</table>\n",
       "</div>"
      ],
      "text/plain": [
       "       Unnamed: 0          V1          V2\n",
       "count  150.000000  150.000000  150.000000\n",
       "mean    74.500000    4.448667    2.478667\n",
       "std     43.445368    0.445859    1.253831\n",
       "min      0.000000    3.400000    0.600000\n",
       "25%     37.250000    4.150000    0.900000\n",
       "50%     74.500000    4.425000    2.825000\n",
       "75%    111.750000    4.787500    3.500000\n",
       "max    149.000000    5.850000    4.600000"
      ]
     },
     "execution_count": 102,
     "metadata": {},
     "output_type": "execute_result"
    }
   ],
   "source": [
    "data.describe()"
   ]
  },
  {
   "cell_type": "code",
   "execution_count": 103,
   "metadata": {},
   "outputs": [
    {
     "data": {
      "image/png": "[encoded data removed]",
      "text/plain": [
       "<Figure size 432x288 with 1 Axes>"
      ]
     },
     "metadata": {
      "needs_background": "light"
     },
     "output_type": "display_data"
    }
   ],
   "source": [
    "data.plot(kind='scatter',x='V1',y='V2')\n",
    "plt.show()"
   ]
  },
  {
   "cell_type": "code",
   "execution_count": 104,
   "metadata": {},
   "outputs": [],
   "source": [
    "#Drop Unnamed: 0, we don't use this column\n",
    "df = data.drop(['Unnamed: 0'], axis = 1)"
   ]
  },
  {
   "cell_type": "code",
   "execution_count": 105,
   "metadata": {},
   "outputs": [
    {
     "data": {
      "text/html": [
       "<div>\n",
       "<style scoped>\n",
       "    .dataframe tbody tr th:only-of-type {\n",
       "        vertical-align: middle;\n",
       "    }\n",
       "\n",
       "    .dataframe tbody tr th {\n",
       "        vertical-align: top;\n",
       "    }\n",
       "\n",
       "    .dataframe thead th {\n",
       "        text-align: right;\n",
       "    }\n",
       "</style>\n",
       "<table border=\"1\" class=\"dataframe\">\n",
       "  <thead>\n",
       "    <tr style=\"text-align: right;\">\n",
       "      <th></th>\n",
       "      <th>V1</th>\n",
       "      <th>V2</th>\n",
       "    </tr>\n",
       "  </thead>\n",
       "  <tbody>\n",
       "    <tr>\n",
       "      <th>0</th>\n",
       "      <td>4.30</td>\n",
       "      <td>0.80</td>\n",
       "    </tr>\n",
       "    <tr>\n",
       "      <th>1</th>\n",
       "      <td>3.95</td>\n",
       "      <td>0.80</td>\n",
       "    </tr>\n",
       "    <tr>\n",
       "      <th>2</th>\n",
       "      <td>3.95</td>\n",
       "      <td>0.75</td>\n",
       "    </tr>\n",
       "    <tr>\n",
       "      <th>3</th>\n",
       "      <td>3.85</td>\n",
       "      <td>0.85</td>\n",
       "    </tr>\n",
       "    <tr>\n",
       "      <th>4</th>\n",
       "      <td>4.30</td>\n",
       "      <td>0.80</td>\n",
       "    </tr>\n",
       "    <tr>\n",
       "      <th>...</th>\n",
       "      <td>...</td>\n",
       "      <td>...</td>\n",
       "    </tr>\n",
       "    <tr>\n",
       "      <th>145</th>\n",
       "      <td>4.85</td>\n",
       "      <td>3.75</td>\n",
       "    </tr>\n",
       "    <tr>\n",
       "      <th>146</th>\n",
       "      <td>4.40</td>\n",
       "      <td>3.45</td>\n",
       "    </tr>\n",
       "    <tr>\n",
       "      <th>147</th>\n",
       "      <td>4.75</td>\n",
       "      <td>3.60</td>\n",
       "    </tr>\n",
       "    <tr>\n",
       "      <th>148</th>\n",
       "      <td>4.80</td>\n",
       "      <td>3.85</td>\n",
       "    </tr>\n",
       "    <tr>\n",
       "      <th>149</th>\n",
       "      <td>4.45</td>\n",
       "      <td>3.45</td>\n",
       "    </tr>\n",
       "  </tbody>\n",
       "</table>\n",
       "<p>150 rows × 2 columns</p>\n",
       "</div>"
      ],
      "text/plain": [
       "       V1    V2\n",
       "0    4.30  0.80\n",
       "1    3.95  0.80\n",
       "2    3.95  0.75\n",
       "3    3.85  0.85\n",
       "4    4.30  0.80\n",
       "..    ...   ...\n",
       "145  4.85  3.75\n",
       "146  4.40  3.45\n",
       "147  4.75  3.60\n",
       "148  4.80  3.85\n",
       "149  4.45  3.45\n",
       "\n",
       "[150 rows x 2 columns]"
      ]
     },
     "execution_count": 105,
     "metadata": {},
     "output_type": "execute_result"
    }
   ],
   "source": [
    "df"
   ]
  },
  {
   "cell_type": "code",
   "execution_count": 106,
   "metadata": {},
   "outputs": [],
   "source": [
    "#Scaling the dataset\n",
    "mms=MinMaxScaler()\n",
    "mms.fit(df)\n",
    "data_transformed = mms.transform(df)"
   ]
  },
  {
   "cell_type": "code",
   "execution_count": 107,
   "metadata": {},
   "outputs": [
    {
     "data": {
      "text/plain": [
       "array([[0.36734694, 0.05      ],\n",
       "       [0.2244898 , 0.05      ],\n",
       "       [0.2244898 , 0.0375    ],\n",
       "       [0.18367347, 0.0625    ],\n",
       "       [0.36734694, 0.05      ],\n",
       "       [0.51020408, 0.1125    ],\n",
       "       [0.24489796, 0.0625    ],\n",
       "       [0.32653061, 0.0625    ],\n",
       "       [0.10204082, 0.05      ],\n",
       "       [0.24489796, 0.05      ],\n",
       "       [0.46938776, 0.0625    ],\n",
       "       [0.28571429, 0.075     ],\n",
       "       [0.20408163, 0.0375    ],\n",
       "       [0.10204082, 0.        ],\n",
       "       [0.6122449 , 0.025     ],\n",
       "       [0.67346939, 0.0875    ],\n",
       "       [0.51020408, 0.0625    ],\n",
       "       [0.36734694, 0.0625    ],\n",
       "       [0.55102041, 0.1       ],\n",
       "       [0.42857143, 0.075     ],\n",
       "       [0.40816327, 0.0875    ],\n",
       "       [0.40816327, 0.0875    ],\n",
       "       [0.28571429, 0.        ],\n",
       "       [0.32653061, 0.125     ],\n",
       "       [0.28571429, 0.1125    ],\n",
       "       [0.24489796, 0.075     ],\n",
       "       [0.32653061, 0.1       ],\n",
       "       [0.3877551 , 0.0625    ],\n",
       "       [0.36734694, 0.05      ],\n",
       "       [0.2244898 , 0.075     ],\n",
       "       [0.2244898 , 0.075     ],\n",
       "       [0.40816327, 0.0875    ],\n",
       "       [0.51020408, 0.05      ],\n",
       "       [0.59183673, 0.05      ],\n",
       "       [0.24489796, 0.05      ],\n",
       "       [0.28571429, 0.025     ],\n",
       "       [0.44897959, 0.0375    ],\n",
       "       [0.24489796, 0.05      ],\n",
       "       [0.12244898, 0.0375    ],\n",
       "       [0.34693878, 0.0625    ],\n",
       "       [0.34693878, 0.05      ],\n",
       "       [0.        , 0.05      ],\n",
       "       [0.16326531, 0.0375    ],\n",
       "       [0.34693878, 0.125     ],\n",
       "       [0.42857143, 0.1375    ],\n",
       "       [0.20408163, 0.0625    ],\n",
       "       [0.42857143, 0.075     ],\n",
       "       [0.20408163, 0.05      ],\n",
       "       [0.44897959, 0.0625    ],\n",
       "       [0.30612245, 0.05      ],\n",
       "       [0.69387755, 0.6125    ],\n",
       "       [0.57142857, 0.6       ],\n",
       "       [0.65306122, 0.65      ],\n",
       "       [0.20408163, 0.5125    ],\n",
       "       [0.51020408, 0.6125    ],\n",
       "       [0.34693878, 0.575     ],\n",
       "       [0.57142857, 0.6375    ],\n",
       "       [0.10204082, 0.3875    ],\n",
       "       [0.55102041, 0.5875    ],\n",
       "       [0.2244898 , 0.5125    ],\n",
       "       [0.04081633, 0.4125    ],\n",
       "       [0.42857143, 0.5625    ],\n",
       "       [0.28571429, 0.475     ],\n",
       "       [0.44897959, 0.6125    ],\n",
       "       [0.34693878, 0.4625    ],\n",
       "       [0.6122449 , 0.575     ],\n",
       "       [0.36734694, 0.6       ],\n",
       "       [0.34693878, 0.4875    ],\n",
       "       [0.32653061, 0.6       ],\n",
       "       [0.26530612, 0.475     ],\n",
       "       [0.46938776, 0.675     ],\n",
       "       [0.42857143, 0.5125    ],\n",
       "       [0.40816327, 0.65      ],\n",
       "       [0.42857143, 0.5875    ],\n",
       "       [0.51020408, 0.55      ],\n",
       "       [0.57142857, 0.575     ],\n",
       "       [0.57142857, 0.625     ],\n",
       "       [0.59183673, 0.6875    ],\n",
       "       [0.42857143, 0.6       ],\n",
       "       [0.30612245, 0.4125    ],\n",
       "       [0.2244898 , 0.4625    ],\n",
       "       [0.2244898 , 0.4375    ],\n",
       "       [0.34693878, 0.4875    ],\n",
       "       [0.3877551 , 0.6875    ],\n",
       "       [0.32653061, 0.6       ],\n",
       "       [0.53061224, 0.6125    ],\n",
       "       [0.6122449 , 0.625     ],\n",
       "       [0.36734694, 0.5625    ],\n",
       "       [0.36734694, 0.525     ],\n",
       "       [0.24489796, 0.5125    ],\n",
       "       [0.26530612, 0.55      ],\n",
       "       [0.46938776, 0.6       ],\n",
       "       [0.32653061, 0.5       ],\n",
       "       [0.10204082, 0.3875    ],\n",
       "       [0.30612245, 0.5375    ],\n",
       "       [0.3877551 , 0.525     ],\n",
       "       [0.36734694, 0.5375    ],\n",
       "       [0.46938776, 0.55      ],\n",
       "       [0.16326531, 0.3625    ],\n",
       "       [0.34693878, 0.525     ],\n",
       "       [0.57142857, 0.9125    ],\n",
       "       [0.34693878, 0.725     ],\n",
       "       [0.67346939, 0.85      ],\n",
       "       [0.48979592, 0.775     ],\n",
       "       [0.55102041, 0.85      ],\n",
       "       [0.7755102 , 0.9375    ],\n",
       "       [0.12244898, 0.625     ],\n",
       "       [0.69387755, 0.8625    ],\n",
       "       [0.48979592, 0.8       ],\n",
       "       [0.81632653, 0.925     ],\n",
       "       [0.59183673, 0.7375    ],\n",
       "       [0.46938776, 0.75      ],\n",
       "       [0.6122449 , 0.8       ],\n",
       "       [0.28571429, 0.725     ],\n",
       "       [0.36734694, 0.7875    ],\n",
       "       [0.57142857, 0.8       ],\n",
       "       [0.55102041, 0.7625    ],\n",
       "       [0.95918367, 0.9625    ],\n",
       "       [0.71428571, 1.        ],\n",
       "       [0.28571429, 0.6625    ],\n",
       "       [0.67346939, 0.85      ],\n",
       "       [0.32653061, 0.7125    ],\n",
       "       [0.75510204, 0.9375    ],\n",
       "       [0.44897959, 0.6875    ],\n",
       "       [0.65306122, 0.825     ],\n",
       "       [0.73469388, 0.825     ],\n",
       "       [0.44897959, 0.675     ],\n",
       "       [0.46938776, 0.6875    ],\n",
       "       [0.48979592, 0.8125    ],\n",
       "       [0.69387755, 0.775     ],\n",
       "       [0.69387755, 0.85      ],\n",
       "       [1.        , 0.9       ],\n",
       "       [0.48979592, 0.825     ],\n",
       "       [0.46938776, 0.675     ],\n",
       "       [0.3877551 , 0.725     ],\n",
       "       [0.79591837, 0.9       ],\n",
       "       [0.59183673, 0.85      ],\n",
       "       [0.55102041, 0.7625    ],\n",
       "       [0.44897959, 0.675     ],\n",
       "       [0.65306122, 0.7875    ],\n",
       "       [0.6122449 , 0.85      ],\n",
       "       [0.65306122, 0.775     ],\n",
       "       [0.34693878, 0.725     ],\n",
       "       [0.65306122, 0.875     ],\n",
       "       [0.65306122, 0.875     ],\n",
       "       [0.59183673, 0.7875    ],\n",
       "       [0.40816327, 0.7125    ],\n",
       "       [0.55102041, 0.75      ],\n",
       "       [0.57142857, 0.8125    ],\n",
       "       [0.42857143, 0.7125    ]])"
      ]
     },
     "execution_count": 107,
     "metadata": {},
     "output_type": "execute_result"
    }
   ],
   "source": [
    "data_transformed"
   ]
  },
  {
   "cell_type": "code",
   "execution_count": 108,
   "metadata": {},
   "outputs": [
    {
     "data": {
      "text/html": [
       "<div>\n",
       "<style scoped>\n",
       "    .dataframe tbody tr th:only-of-type {\n",
       "        vertical-align: middle;\n",
       "    }\n",
       "\n",
       "    .dataframe tbody tr th {\n",
       "        vertical-align: top;\n",
       "    }\n",
       "\n",
       "    .dataframe thead th {\n",
       "        text-align: right;\n",
       "    }\n",
       "</style>\n",
       "<table border=\"1\" class=\"dataframe\">\n",
       "  <thead>\n",
       "    <tr style=\"text-align: right;\">\n",
       "      <th></th>\n",
       "      <th>V1</th>\n",
       "      <th>V2</th>\n",
       "    </tr>\n",
       "  </thead>\n",
       "  <tbody>\n",
       "    <tr>\n",
       "      <th>0</th>\n",
       "      <td>0.367347</td>\n",
       "      <td>0.0500</td>\n",
       "    </tr>\n",
       "    <tr>\n",
       "      <th>1</th>\n",
       "      <td>0.224490</td>\n",
       "      <td>0.0500</td>\n",
       "    </tr>\n",
       "    <tr>\n",
       "      <th>2</th>\n",
       "      <td>0.224490</td>\n",
       "      <td>0.0375</td>\n",
       "    </tr>\n",
       "    <tr>\n",
       "      <th>3</th>\n",
       "      <td>0.183673</td>\n",
       "      <td>0.0625</td>\n",
       "    </tr>\n",
       "    <tr>\n",
       "      <th>4</th>\n",
       "      <td>0.367347</td>\n",
       "      <td>0.0500</td>\n",
       "    </tr>\n",
       "    <tr>\n",
       "      <th>...</th>\n",
       "      <td>...</td>\n",
       "      <td>...</td>\n",
       "    </tr>\n",
       "    <tr>\n",
       "      <th>145</th>\n",
       "      <td>0.591837</td>\n",
       "      <td>0.7875</td>\n",
       "    </tr>\n",
       "    <tr>\n",
       "      <th>146</th>\n",
       "      <td>0.408163</td>\n",
       "      <td>0.7125</td>\n",
       "    </tr>\n",
       "    <tr>\n",
       "      <th>147</th>\n",
       "      <td>0.551020</td>\n",
       "      <td>0.7500</td>\n",
       "    </tr>\n",
       "    <tr>\n",
       "      <th>148</th>\n",
       "      <td>0.571429</td>\n",
       "      <td>0.8125</td>\n",
       "    </tr>\n",
       "    <tr>\n",
       "      <th>149</th>\n",
       "      <td>0.428571</td>\n",
       "      <td>0.7125</td>\n",
       "    </tr>\n",
       "  </tbody>\n",
       "</table>\n",
       "<p>150 rows × 2 columns</p>\n",
       "</div>"
      ],
      "text/plain": [
       "           V1      V2\n",
       "0    0.367347  0.0500\n",
       "1    0.224490  0.0500\n",
       "2    0.224490  0.0375\n",
       "3    0.183673  0.0625\n",
       "4    0.367347  0.0500\n",
       "..        ...     ...\n",
       "145  0.591837  0.7875\n",
       "146  0.408163  0.7125\n",
       "147  0.551020  0.7500\n",
       "148  0.571429  0.8125\n",
       "149  0.428571  0.7125\n",
       "\n",
       "[150 rows x 2 columns]"
      ]
     },
     "execution_count": 108,
     "metadata": {},
     "output_type": "execute_result"
    }
   ],
   "source": [
    "#Convert to Dataframe\n",
    "data_transformed = pd.DataFrame(data_transformed, columns=['V1','V2'])\n",
    "data_transformed"
   ]
  },
  {
   "cell_type": "code",
   "execution_count": 109,
   "metadata": {},
   "outputs": [
    {
     "data": {
      "image/png": "[encoded data removed]",
      "text/plain": [
       "<Figure size 432x288 with 1 Axes>"
      ]
     },
     "metadata": {
      "needs_background": "light"
     },
     "output_type": "display_data"
    }
   ],
   "source": [
    "#Replotting dataset after scaling\n",
    "data_transformed.plot(kind='scatter', x='V1',y='V2')\n",
    "plt.show()"
   ]
  },
  {
   "cell_type": "code",
   "execution_count": 110,
   "metadata": {},
   "outputs": [],
   "source": [
    "#Elbow method to minimize WSS (Within-cluster Sum of Square)\n",
    "Sum_of_squared_distances = []\n",
    "K = range(1,15)\n",
    "for k in K:\n",
    "    km = KMeans(n_clusters=k)\n",
    "    km = km.fit(data_transformed)\n",
    "    Sum_of_squared_distances.append(km.inertia_)"
   ]
  },
  {
   "cell_type": "code",
   "execution_count": 111,
   "metadata": {},
   "outputs": [
    {
     "data": {
      "image/png": "[encoded data removed]",
      "text/plain": [
       "<Figure size 432x288 with 1 Axes>"
      ]
     },
     "metadata": {
      "needs_background": "light"
     },
     "output_type": "display_data"
    }
   ],
   "source": [
    "#Plotting the Elbow Curve by k (number of clusters)\n",
    "plt.plot(K, Sum_of_squared_distances, 'rx-')\n",
    "plt.xlabel('k')\n",
    "plt.ylabel('Sum_of_squared_distances')\n",
    "plt.title('Elbow Method For Optimal K')\n",
    "plt.show()\n"
   ]
  },
  {
   "cell_type": "code",
   "execution_count": 112,
   "metadata": {},
   "outputs": [],
   "source": [
    "#In the Elbow Method for Optimal K plot above the elbow is at k=3 indicating that the optimal k for the dataset is 3 "
   ]
  },
  {
   "cell_type": "code",
   "execution_count": 113,
   "metadata": {},
   "outputs": [],
   "source": [
    "#Using KMean with k=3 to cluster for the dataset\n",
    "data=pd.read_csv('https://raw.githubusercontent.com/ACM-Research/Coding-Challenge/master/ClusterPlot.csv')\n",
    "df=data.drop(['Unnamed: 0'],axis=1)"
   ]
  },
  {
   "cell_type": "code",
   "execution_count": 114,
   "metadata": {},
   "outputs": [],
   "source": [
    "#clustering the dataset with k=3\n",
    "km3 = KMeans(n_clusters=3)\n",
    "km3 = km3.fit(df)"
   ]
  },
  {
   "cell_type": "code",
   "execution_count": 115,
   "metadata": {},
   "outputs": [
    {
     "name": "stdout",
     "output_type": "stream",
     "text": [
      "[0 0 0 0 0 0 0 0 0 0 0 0 0 0 0 0 0 0 0 0 0 0 0 0 0 0 0 0 0 0 0 0 0 0 0 0 0\n",
      " 0 0 0 0 0 0 0 0 0 0 0 0 0 2 2 1 2 2 2 2 2 2 2 2 2 2 2 2 2 2 2 2 2 2 2 2 2\n",
      " 2 2 2 1 2 2 2 2 2 2 2 2 2 2 2 2 2 2 2 2 2 2 2 2 2 2 1 2 1 1 1 1 2 1 1 1 1\n",
      " 1 1 2 1 1 1 1 1 2 1 2 1 2 1 1 2 2 1 1 1 1 1 2 2 1 1 1 2 1 1 1 2 1 1 1 2 1\n",
      " 1 2]\n"
     ]
    }
   ],
   "source": [
    "print(km3.labels_)"
   ]
  },
  {
   "cell_type": "code",
   "execution_count": 116,
   "metadata": {},
   "outputs": [
    {
     "name": "stdout",
     "output_type": "stream",
     "text": [
      "[0 0 0 0 0 0 0 0 0 0 0 0 0 0 0 0 0 0 0 0 0 0 0 0 0 0 0 0 0 0 0 0 0 0 0 0 0\n",
      " 0 0 0 0 0 0 0 0 0 0 0 0 0 2 2 1 2 2 2 2 2 2 2 2 2 2 2 2 2 2 2 2 2 2 2 2 2\n",
      " 2 2 2 1 2 2 2 2 2 2 2 2 2 2 2 2 2 2 2 2 2 2 2 2 2 2 1 2 1 1 1 1 2 1 1 1 1\n",
      " 1 1 2 1 1 1 1 1 2 1 2 1 2 1 1 2 2 1 1 1 1 1 2 2 1 1 1 2 1 1 1 2 1 1 1 2 1\n",
      " 1 2]\n"
     ]
    },
    {
     "data": {
      "text/plain": [
       "cluster\n",
       "0    50\n",
       "1    38\n",
       "2    62\n",
       "dtype: int64"
      ]
     },
     "execution_count": 116,
     "metadata": {},
     "output_type": "execute_result"
    }
   ],
   "source": [
    "#how many observations are in each cluster\n",
    "print(km3.labels_)\n",
    "result=km3.labels_\n",
    "result=pd.DataFrame(result,columns=['cluster'])\n",
    "result.groupby('cluster').size()"
   ]
  },
  {
   "cell_type": "code",
   "execution_count": 117,
   "metadata": {},
   "outputs": [
    {
     "data": {
      "text/html": [
       "<div>\n",
       "<style scoped>\n",
       "    .dataframe tbody tr th:only-of-type {\n",
       "        vertical-align: middle;\n",
       "    }\n",
       "\n",
       "    .dataframe tbody tr th {\n",
       "        vertical-align: top;\n",
       "    }\n",
       "\n",
       "    .dataframe thead th {\n",
       "        text-align: right;\n",
       "    }\n",
       "</style>\n",
       "<table border=\"1\" class=\"dataframe\">\n",
       "  <thead>\n",
       "    <tr style=\"text-align: right;\">\n",
       "      <th></th>\n",
       "      <th>Centroid_V1</th>\n",
       "      <th>Centroid_V2</th>\n",
       "    </tr>\n",
       "  </thead>\n",
       "  <tbody>\n",
       "    <tr>\n",
       "      <th>0</th>\n",
       "      <td>4.212000</td>\n",
       "      <td>0.854000</td>\n",
       "    </tr>\n",
       "    <tr>\n",
       "      <th>1</th>\n",
       "      <td>4.960526</td>\n",
       "      <td>3.913158</td>\n",
       "    </tr>\n",
       "    <tr>\n",
       "      <th>2</th>\n",
       "      <td>4.325806</td>\n",
       "      <td>2.909677</td>\n",
       "    </tr>\n",
       "  </tbody>\n",
       "</table>\n",
       "</div>"
      ],
      "text/plain": [
       "   Centroid_V1  Centroid_V2\n",
       "0     4.212000     0.854000\n",
       "1     4.960526     3.913158\n",
       "2     4.325806     2.909677"
      ]
     },
     "execution_count": 117,
     "metadata": {},
     "output_type": "execute_result"
    }
   ],
   "source": [
    "#The centroid of cluster \n",
    "centroids = km3.cluster_centers_\n",
    "centroids=pd.DataFrame(centroids, columns=['Centroid_V1','Centroid_V2'])\n",
    "centroids"
   ]
  },
  {
   "cell_type": "code",
   "execution_count": 118,
   "metadata": {},
   "outputs": [],
   "source": [
    "#Predict clusters for 3 data points with with V1 and V2 as below \n",
    "clu_pred=km3.predict([[18,3700],[4,900],[10,1700]])"
   ]
  },
  {
   "cell_type": "code",
   "execution_count": 119,
   "metadata": {},
   "outputs": [
    {
     "data": {
      "text/plain": [
       "array([1, 1, 1])"
      ]
     },
     "execution_count": 119,
     "metadata": {},
     "output_type": "execute_result"
    }
   ],
   "source": [
    "#show the results\n",
    "clu_pred"
   ]
  },
  {
   "cell_type": "code",
   "execution_count": 120,
   "metadata": {},
   "outputs": [
    {
     "data": {
      "image/png": "[encoded data removed]",
      "text/plain": [
       "<Figure size 576x432 with 1 Axes>"
      ]
     },
     "metadata": {
      "needs_background": "light"
     },
     "output_type": "display_data"
    }
   ],
   "source": [
    "#Draw the centroid of Cluster\n",
    "s1= data.plot(figsize=[8,6], kind='scatter', x='V1',y='V2')\n",
    "centroids.plot(ax=s1, kind='scatter',x='Centroid_V1',y='Centroid_V2', color='red',fontsize=14,marker='x',s=[70,70,70])\n",
    "plt.show()"
   ]
  }
 ],
 "metadata": {
  "kernelspec": {
   "display_name": "Python 3",
   "language": "python",
   "name": "python3"
  },
  "language_info": {
   "codemirror_mode": {
    "name": "ipython",
    "version": 3
   },
   "file_extension": ".py",
   "mimetype": "text/x-python",
   "name": "python",
   "nbconvert_exporter": "python",
   "pygments_lexer": "ipython3",
   "version": "3.8.3"
  }
 },
 "nbformat": 4,
 "nbformat_minor": 4
}
